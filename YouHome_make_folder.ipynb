{
 "cells": [
  {
   "cell_type": "code",
   "execution_count": 1,
   "id": "e5f3febf",
   "metadata": {},
   "outputs": [],
   "source": [
    "import os, shutil"
   ]
  },
  {
   "cell_type": "code",
   "execution_count": 11,
   "id": "a2df01cd",
   "metadata": {},
   "outputs": [
    {
     "name": "stdout",
     "output_type": "stream",
     "text": [
      "['p102', 'p106', 'p105', 'p104', 'p103', 'p101', 'p199']\n",
      "['Use.Kettle', 'Use.Vaccum', 'Read', 'Eat.Snack', 'Play.Boardgame', 'Cook.Usestove', 'Drink.Frombottle', 'Write', 'Use.Phone', 'Use.Sink', 'Use.Refrig', 'Eat.Useutensil', 'Use.Gamecontroller', 'Watch.TV', 'Nap', 'Use.Shelf', 'Exercise', 'Use.Switch', 'Cook.Useoven', 'Use.Tablet', 'Lay.Onbed', 'Use.Coffeemachine', 'Use.Mop', 'Getup', 'Cook.Cut', 'Cook.Usemicrowave', 'Drink.Fromcup', 'Use.Dishwasher', 'Use.Computer']\n"
     ]
    }
   ],
   "source": [
    "data_root = \"/media/aperture/Delta/Descartes/our_data/imgdata\"\n",
    "new_root = \"/media/aperture/Delta/Descartes/our_data/imgdata4event/img\"\n",
    "userids = os.listdir(data_root)\n",
    "print(userids)\n",
    "events = []\n",
    "for user in userids:\n",
    "    user_events = os.listdir(data_root + os.sep + user)\n",
    "    for e in user_events:\n",
    "        if e not in events:\n",
    "            events.append(e)\n",
    "print(events)"
   ]
  },
  {
   "cell_type": "code",
   "execution_count": 14,
   "id": "5af65708",
   "metadata": {},
   "outputs": [],
   "source": [
    "for e in events:\n",
    "    for u in userids:\n",
    "        new_path = new_root + os.sep + e + os.sep + e + '_' + u\n",
    "        if not os.path.exists(new_path):\n",
    "            continue\n",
    "        files = os.listdir(new_path)\n",
    "        n = 1\n",
    "        for f in files:\n",
    "            old_name = new_path + os.sep + f\n",
    "            new_name = new_path + os.sep + 'image_%05d.jpg'%n\n",
    "            os.rename(old_name, new_name)\n",
    "            n += 1"
   ]
  },
  {
   "cell_type": "code",
   "execution_count": 8,
   "id": "5882a8d4",
   "metadata": {},
   "outputs": [
    {
     "name": "stdout",
     "output_type": "stream",
     "text": [
      "image_00001\n"
     ]
    }
   ],
   "source": [
    "print('image_%05d'%(1))"
   ]
  },
  {
   "cell_type": "code",
   "execution_count": 4,
   "id": "600d6a5d",
   "metadata": {},
   "outputs": [
    {
     "name": "stdout",
     "output_type": "stream",
     "text": [
      "Copy from /media/aperture/Delta/Descartes/our_data/imgdata/p102/Use.Kettle to /media/aperture/Delta/Descartes/our_data/imgdata4event/Use.Kettle/p102\n",
      "Copy from /media/aperture/Delta/Descartes/our_data/imgdata/p102/Use.Vaccum to /media/aperture/Delta/Descartes/our_data/imgdata4event/Use.Vaccum/p102\n",
      "Copy from /media/aperture/Delta/Descartes/our_data/imgdata/p102/Read to /media/aperture/Delta/Descartes/our_data/imgdata4event/Read/p102\n",
      "Copy from /media/aperture/Delta/Descartes/our_data/imgdata/p102/Eat.Snack to /media/aperture/Delta/Descartes/our_data/imgdata4event/Eat.Snack/p102\n",
      "Copy from /media/aperture/Delta/Descartes/our_data/imgdata/p102/Play.Boardgame to /media/aperture/Delta/Descartes/our_data/imgdata4event/Play.Boardgame/p102\n",
      "Copy from /media/aperture/Delta/Descartes/our_data/imgdata/p102/Cook.Usestove to /media/aperture/Delta/Descartes/our_data/imgdata4event/Cook.Usestove/p102\n",
      "Copy from /media/aperture/Delta/Descartes/our_data/imgdata/p102/Drink.Frombottle to /media/aperture/Delta/Descartes/our_data/imgdata4event/Drink.Frombottle/p102\n",
      "Copy from /media/aperture/Delta/Descartes/our_data/imgdata/p102/Write to /media/aperture/Delta/Descartes/our_data/imgdata4event/Write/p102\n",
      "Copy from /media/aperture/Delta/Descartes/our_data/imgdata/p102/Use.Phone to /media/aperture/Delta/Descartes/our_data/imgdata4event/Use.Phone/p102\n",
      "Copy from /media/aperture/Delta/Descartes/our_data/imgdata/p102/Use.Sink to /media/aperture/Delta/Descartes/our_data/imgdata4event/Use.Sink/p102\n",
      "Copy from /media/aperture/Delta/Descartes/our_data/imgdata/p102/Use.Refrig to /media/aperture/Delta/Descartes/our_data/imgdata4event/Use.Refrig/p102\n",
      "Copy from /media/aperture/Delta/Descartes/our_data/imgdata/p102/Eat.Useutensil to /media/aperture/Delta/Descartes/our_data/imgdata4event/Eat.Useutensil/p102\n",
      "Copy from /media/aperture/Delta/Descartes/our_data/imgdata/p102/Use.Gamecontroller to /media/aperture/Delta/Descartes/our_data/imgdata4event/Use.Gamecontroller/p102\n",
      "Copy from /media/aperture/Delta/Descartes/our_data/imgdata/p102/Watch.TV to /media/aperture/Delta/Descartes/our_data/imgdata4event/Watch.TV/p102\n",
      "Copy from /media/aperture/Delta/Descartes/our_data/imgdata/p102/Nap to /media/aperture/Delta/Descartes/our_data/imgdata4event/Nap/p102\n",
      "Copy from /media/aperture/Delta/Descartes/our_data/imgdata/p102/Use.Shelf to /media/aperture/Delta/Descartes/our_data/imgdata4event/Use.Shelf/p102\n",
      "Copy from /media/aperture/Delta/Descartes/our_data/imgdata/p102/Exercise to /media/aperture/Delta/Descartes/our_data/imgdata4event/Exercise/p102\n",
      "Copy from /media/aperture/Delta/Descartes/our_data/imgdata/p102/Use.Switch to /media/aperture/Delta/Descartes/our_data/imgdata4event/Use.Switch/p102\n",
      "Copy from /media/aperture/Delta/Descartes/our_data/imgdata/p102/Cook.Useoven to /media/aperture/Delta/Descartes/our_data/imgdata4event/Cook.Useoven/p102\n",
      "Copy from /media/aperture/Delta/Descartes/our_data/imgdata/p102/Use.Tablet to /media/aperture/Delta/Descartes/our_data/imgdata4event/Use.Tablet/p102\n",
      "Copy from /media/aperture/Delta/Descartes/our_data/imgdata/p102/Lay.Onbed to /media/aperture/Delta/Descartes/our_data/imgdata4event/Lay.Onbed/p102\n",
      "Copy from /media/aperture/Delta/Descartes/our_data/imgdata/p102/Use.Coffeemachine to /media/aperture/Delta/Descartes/our_data/imgdata4event/Use.Coffeemachine/p102\n",
      "Copy from /media/aperture/Delta/Descartes/our_data/imgdata/p102/Use.Mop to /media/aperture/Delta/Descartes/our_data/imgdata4event/Use.Mop/p102\n",
      "Copy from /media/aperture/Delta/Descartes/our_data/imgdata/p102/Getup to /media/aperture/Delta/Descartes/our_data/imgdata4event/Getup/p102\n",
      "Copy from /media/aperture/Delta/Descartes/our_data/imgdata/p102/Cook.Cut to /media/aperture/Delta/Descartes/our_data/imgdata4event/Cook.Cut/p102\n",
      "Copy from /media/aperture/Delta/Descartes/our_data/imgdata/p102/Cook.Usemicrowave to /media/aperture/Delta/Descartes/our_data/imgdata4event/Cook.Usemicrowave/p102\n",
      "Copy from /media/aperture/Delta/Descartes/our_data/imgdata/p102/Drink.Fromcup to /media/aperture/Delta/Descartes/our_data/imgdata4event/Drink.Fromcup/p102\n",
      "Copy from /media/aperture/Delta/Descartes/our_data/imgdata/p102/Use.Dishwasher to /media/aperture/Delta/Descartes/our_data/imgdata4event/Use.Dishwasher/p102\n",
      "Copy from /media/aperture/Delta/Descartes/our_data/imgdata/p102/Use.Computer to /media/aperture/Delta/Descartes/our_data/imgdata4event/Use.Computer/p102\n",
      "Copy from /media/aperture/Delta/Descartes/our_data/imgdata/p106/Use.Kettle to /media/aperture/Delta/Descartes/our_data/imgdata4event/Use.Kettle/p106\n",
      "Copy from /media/aperture/Delta/Descartes/our_data/imgdata/p106/Use.Vaccum to /media/aperture/Delta/Descartes/our_data/imgdata4event/Use.Vaccum/p106\n",
      "Copy from /media/aperture/Delta/Descartes/our_data/imgdata/p106/Read to /media/aperture/Delta/Descartes/our_data/imgdata4event/Read/p106\n",
      "Copy from /media/aperture/Delta/Descartes/our_data/imgdata/p106/Eat.Snack to /media/aperture/Delta/Descartes/our_data/imgdata4event/Eat.Snack/p106\n",
      "Copy from /media/aperture/Delta/Descartes/our_data/imgdata/p106/Play.Boardgame to /media/aperture/Delta/Descartes/our_data/imgdata4event/Play.Boardgame/p106\n",
      "Copy from /media/aperture/Delta/Descartes/our_data/imgdata/p106/Cook.Usestove to /media/aperture/Delta/Descartes/our_data/imgdata4event/Cook.Usestove/p106\n",
      "Copy from /media/aperture/Delta/Descartes/our_data/imgdata/p106/Drink.Frombottle to /media/aperture/Delta/Descartes/our_data/imgdata4event/Drink.Frombottle/p106\n",
      "Copy from /media/aperture/Delta/Descartes/our_data/imgdata/p106/Write to /media/aperture/Delta/Descartes/our_data/imgdata4event/Write/p106\n",
      "Copy from /media/aperture/Delta/Descartes/our_data/imgdata/p106/Use.Phone to /media/aperture/Delta/Descartes/our_data/imgdata4event/Use.Phone/p106\n",
      "Copy from /media/aperture/Delta/Descartes/our_data/imgdata/p106/Use.Sink to /media/aperture/Delta/Descartes/our_data/imgdata4event/Use.Sink/p106\n",
      "Copy from /media/aperture/Delta/Descartes/our_data/imgdata/p106/Use.Refrig to /media/aperture/Delta/Descartes/our_data/imgdata4event/Use.Refrig/p106\n",
      "Copy from /media/aperture/Delta/Descartes/our_data/imgdata/p106/Eat.Useutensil to /media/aperture/Delta/Descartes/our_data/imgdata4event/Eat.Useutensil/p106\n",
      "Copy from /media/aperture/Delta/Descartes/our_data/imgdata/p106/Use.Gamecontroller to /media/aperture/Delta/Descartes/our_data/imgdata4event/Use.Gamecontroller/p106\n",
      "Copy from /media/aperture/Delta/Descartes/our_data/imgdata/p106/Watch.TV to /media/aperture/Delta/Descartes/our_data/imgdata4event/Watch.TV/p106\n",
      "Copy from /media/aperture/Delta/Descartes/our_data/imgdata/p106/Nap to /media/aperture/Delta/Descartes/our_data/imgdata4event/Nap/p106\n",
      "Copy from /media/aperture/Delta/Descartes/our_data/imgdata/p106/Use.Shelf to /media/aperture/Delta/Descartes/our_data/imgdata4event/Use.Shelf/p106\n",
      "Copy from /media/aperture/Delta/Descartes/our_data/imgdata/p106/Exercise to /media/aperture/Delta/Descartes/our_data/imgdata4event/Exercise/p106\n",
      "Copy from /media/aperture/Delta/Descartes/our_data/imgdata/p106/Use.Switch to /media/aperture/Delta/Descartes/our_data/imgdata4event/Use.Switch/p106\n",
      "Copy from /media/aperture/Delta/Descartes/our_data/imgdata/p106/Cook.Useoven to /media/aperture/Delta/Descartes/our_data/imgdata4event/Cook.Useoven/p106\n",
      "Copy from /media/aperture/Delta/Descartes/our_data/imgdata/p106/Use.Tablet to /media/aperture/Delta/Descartes/our_data/imgdata4event/Use.Tablet/p106\n",
      "Copy from /media/aperture/Delta/Descartes/our_data/imgdata/p106/Lay.Onbed to /media/aperture/Delta/Descartes/our_data/imgdata4event/Lay.Onbed/p106\n",
      "Copy from /media/aperture/Delta/Descartes/our_data/imgdata/p106/Use.Coffeemachine to /media/aperture/Delta/Descartes/our_data/imgdata4event/Use.Coffeemachine/p106\n",
      "Copy from /media/aperture/Delta/Descartes/our_data/imgdata/p106/Use.Mop to /media/aperture/Delta/Descartes/our_data/imgdata4event/Use.Mop/p106\n",
      "Copy from /media/aperture/Delta/Descartes/our_data/imgdata/p106/Getup to /media/aperture/Delta/Descartes/our_data/imgdata4event/Getup/p106\n",
      "Copy from /media/aperture/Delta/Descartes/our_data/imgdata/p106/Cook.Cut to /media/aperture/Delta/Descartes/our_data/imgdata4event/Cook.Cut/p106\n",
      "Copy from /media/aperture/Delta/Descartes/our_data/imgdata/p106/Cook.Usemicrowave to /media/aperture/Delta/Descartes/our_data/imgdata4event/Cook.Usemicrowave/p106\n"
     ]
    },
    {
     "name": "stdout",
     "output_type": "stream",
     "text": [
      "Copy from /media/aperture/Delta/Descartes/our_data/imgdata/p106/Drink.Fromcup to /media/aperture/Delta/Descartes/our_data/imgdata4event/Drink.Fromcup/p106\n",
      "Copy from /media/aperture/Delta/Descartes/our_data/imgdata/p106/Use.Dishwasher to /media/aperture/Delta/Descartes/our_data/imgdata4event/Use.Dishwasher/p106\n",
      "Copy from /media/aperture/Delta/Descartes/our_data/imgdata/p106/Use.Computer to /media/aperture/Delta/Descartes/our_data/imgdata4event/Use.Computer/p106\n",
      "Copy from /media/aperture/Delta/Descartes/our_data/imgdata/p105/Use.Kettle to /media/aperture/Delta/Descartes/our_data/imgdata4event/Use.Kettle/p105\n",
      "Copy from /media/aperture/Delta/Descartes/our_data/imgdata/p105/Use.Vaccum to /media/aperture/Delta/Descartes/our_data/imgdata4event/Use.Vaccum/p105\n",
      "Copy from /media/aperture/Delta/Descartes/our_data/imgdata/p105/Read to /media/aperture/Delta/Descartes/our_data/imgdata4event/Read/p105\n",
      "Copy from /media/aperture/Delta/Descartes/our_data/imgdata/p105/Eat.Snack to /media/aperture/Delta/Descartes/our_data/imgdata4event/Eat.Snack/p105\n",
      "Copy from /media/aperture/Delta/Descartes/our_data/imgdata/p105/Play.Boardgame to /media/aperture/Delta/Descartes/our_data/imgdata4event/Play.Boardgame/p105\n",
      "Copy from /media/aperture/Delta/Descartes/our_data/imgdata/p105/Cook.Usestove to /media/aperture/Delta/Descartes/our_data/imgdata4event/Cook.Usestove/p105\n",
      "Copy from /media/aperture/Delta/Descartes/our_data/imgdata/p105/Drink.Frombottle to /media/aperture/Delta/Descartes/our_data/imgdata4event/Drink.Frombottle/p105\n",
      "Copy from /media/aperture/Delta/Descartes/our_data/imgdata/p105/Write to /media/aperture/Delta/Descartes/our_data/imgdata4event/Write/p105\n",
      "Copy from /media/aperture/Delta/Descartes/our_data/imgdata/p105/Use.Phone to /media/aperture/Delta/Descartes/our_data/imgdata4event/Use.Phone/p105\n",
      "Copy from /media/aperture/Delta/Descartes/our_data/imgdata/p105/Use.Sink to /media/aperture/Delta/Descartes/our_data/imgdata4event/Use.Sink/p105\n",
      "Copy from /media/aperture/Delta/Descartes/our_data/imgdata/p105/Use.Refrig to /media/aperture/Delta/Descartes/our_data/imgdata4event/Use.Refrig/p105\n",
      "Copy from /media/aperture/Delta/Descartes/our_data/imgdata/p105/Eat.Useutensil to /media/aperture/Delta/Descartes/our_data/imgdata4event/Eat.Useutensil/p105\n",
      "Copy from /media/aperture/Delta/Descartes/our_data/imgdata/p105/Use.Gamecontroller to /media/aperture/Delta/Descartes/our_data/imgdata4event/Use.Gamecontroller/p105\n",
      "Copy from /media/aperture/Delta/Descartes/our_data/imgdata/p105/Watch.TV to /media/aperture/Delta/Descartes/our_data/imgdata4event/Watch.TV/p105\n",
      "Copy from /media/aperture/Delta/Descartes/our_data/imgdata/p105/Nap to /media/aperture/Delta/Descartes/our_data/imgdata4event/Nap/p105\n",
      "Copy from /media/aperture/Delta/Descartes/our_data/imgdata/p105/Use.Shelf to /media/aperture/Delta/Descartes/our_data/imgdata4event/Use.Shelf/p105\n",
      "Copy from /media/aperture/Delta/Descartes/our_data/imgdata/p105/Exercise to /media/aperture/Delta/Descartes/our_data/imgdata4event/Exercise/p105\n",
      "Copy from /media/aperture/Delta/Descartes/our_data/imgdata/p105/Use.Switch to /media/aperture/Delta/Descartes/our_data/imgdata4event/Use.Switch/p105\n",
      "Copy from /media/aperture/Delta/Descartes/our_data/imgdata/p105/Cook.Useoven to /media/aperture/Delta/Descartes/our_data/imgdata4event/Cook.Useoven/p105\n",
      "Copy from /media/aperture/Delta/Descartes/our_data/imgdata/p105/Use.Tablet to /media/aperture/Delta/Descartes/our_data/imgdata4event/Use.Tablet/p105\n",
      "Copy from /media/aperture/Delta/Descartes/our_data/imgdata/p105/Lay.Onbed to /media/aperture/Delta/Descartes/our_data/imgdata4event/Lay.Onbed/p105\n",
      "Copy from /media/aperture/Delta/Descartes/our_data/imgdata/p105/Use.Coffeemachine to /media/aperture/Delta/Descartes/our_data/imgdata4event/Use.Coffeemachine/p105\n",
      "Copy from /media/aperture/Delta/Descartes/our_data/imgdata/p105/Use.Mop to /media/aperture/Delta/Descartes/our_data/imgdata4event/Use.Mop/p105\n",
      "Copy from /media/aperture/Delta/Descartes/our_data/imgdata/p105/Getup to /media/aperture/Delta/Descartes/our_data/imgdata4event/Getup/p105\n",
      "Copy from /media/aperture/Delta/Descartes/our_data/imgdata/p105/Cook.Cut to /media/aperture/Delta/Descartes/our_data/imgdata4event/Cook.Cut/p105\n",
      "Copy from /media/aperture/Delta/Descartes/our_data/imgdata/p105/Cook.Usemicrowave to /media/aperture/Delta/Descartes/our_data/imgdata4event/Cook.Usemicrowave/p105\n",
      "Copy from /media/aperture/Delta/Descartes/our_data/imgdata/p105/Drink.Fromcup to /media/aperture/Delta/Descartes/our_data/imgdata4event/Drink.Fromcup/p105\n",
      "Copy from /media/aperture/Delta/Descartes/our_data/imgdata/p105/Use.Dishwasher to /media/aperture/Delta/Descartes/our_data/imgdata4event/Use.Dishwasher/p105\n",
      "Copy from /media/aperture/Delta/Descartes/our_data/imgdata/p105/Use.Computer to /media/aperture/Delta/Descartes/our_data/imgdata4event/Use.Computer/p105\n",
      "Copy from /media/aperture/Delta/Descartes/our_data/imgdata/p104/Use.Kettle to /media/aperture/Delta/Descartes/our_data/imgdata4event/Use.Kettle/p104\n",
      "Copy from /media/aperture/Delta/Descartes/our_data/imgdata/p104/Use.Vaccum to /media/aperture/Delta/Descartes/our_data/imgdata4event/Use.Vaccum/p104\n",
      "Copy from /media/aperture/Delta/Descartes/our_data/imgdata/p104/Read to /media/aperture/Delta/Descartes/our_data/imgdata4event/Read/p104\n",
      "Copy from /media/aperture/Delta/Descartes/our_data/imgdata/p104/Eat.Snack to /media/aperture/Delta/Descartes/our_data/imgdata4event/Eat.Snack/p104\n",
      "Copy from /media/aperture/Delta/Descartes/our_data/imgdata/p104/Play.Boardgame to /media/aperture/Delta/Descartes/our_data/imgdata4event/Play.Boardgame/p104\n",
      "Copy from /media/aperture/Delta/Descartes/our_data/imgdata/p104/Cook.Usestove to /media/aperture/Delta/Descartes/our_data/imgdata4event/Cook.Usestove/p104\n",
      "Copy from /media/aperture/Delta/Descartes/our_data/imgdata/p104/Drink.Frombottle to /media/aperture/Delta/Descartes/our_data/imgdata4event/Drink.Frombottle/p104\n",
      "Copy from /media/aperture/Delta/Descartes/our_data/imgdata/p104/Write to /media/aperture/Delta/Descartes/our_data/imgdata4event/Write/p104\n",
      "Copy from /media/aperture/Delta/Descartes/our_data/imgdata/p104/Use.Phone to /media/aperture/Delta/Descartes/our_data/imgdata4event/Use.Phone/p104\n",
      "Copy from /media/aperture/Delta/Descartes/our_data/imgdata/p104/Use.Sink to /media/aperture/Delta/Descartes/our_data/imgdata4event/Use.Sink/p104\n",
      "Copy from /media/aperture/Delta/Descartes/our_data/imgdata/p104/Use.Refrig to /media/aperture/Delta/Descartes/our_data/imgdata4event/Use.Refrig/p104\n",
      "Copy from /media/aperture/Delta/Descartes/our_data/imgdata/p104/Eat.Useutensil to /media/aperture/Delta/Descartes/our_data/imgdata4event/Eat.Useutensil/p104\n",
      "Copy from /media/aperture/Delta/Descartes/our_data/imgdata/p104/Use.Gamecontroller to /media/aperture/Delta/Descartes/our_data/imgdata4event/Use.Gamecontroller/p104\n",
      "Copy from /media/aperture/Delta/Descartes/our_data/imgdata/p104/Watch.TV to /media/aperture/Delta/Descartes/our_data/imgdata4event/Watch.TV/p104\n",
      "Copy from /media/aperture/Delta/Descartes/our_data/imgdata/p104/Nap to /media/aperture/Delta/Descartes/our_data/imgdata4event/Nap/p104\n",
      "Copy from /media/aperture/Delta/Descartes/our_data/imgdata/p104/Use.Shelf to /media/aperture/Delta/Descartes/our_data/imgdata4event/Use.Shelf/p104\n",
      "Copy from /media/aperture/Delta/Descartes/our_data/imgdata/p104/Exercise to /media/aperture/Delta/Descartes/our_data/imgdata4event/Exercise/p104\n",
      "Copy from /media/aperture/Delta/Descartes/our_data/imgdata/p104/Use.Switch to /media/aperture/Delta/Descartes/our_data/imgdata4event/Use.Switch/p104\n",
      "Copy from /media/aperture/Delta/Descartes/our_data/imgdata/p104/Cook.Useoven to /media/aperture/Delta/Descartes/our_data/imgdata4event/Cook.Useoven/p104\n",
      "Copy from /media/aperture/Delta/Descartes/our_data/imgdata/p104/Use.Tablet to /media/aperture/Delta/Descartes/our_data/imgdata4event/Use.Tablet/p104\n",
      "Copy from /media/aperture/Delta/Descartes/our_data/imgdata/p104/Lay.Onbed to /media/aperture/Delta/Descartes/our_data/imgdata4event/Lay.Onbed/p104\n",
      "Copy from /media/aperture/Delta/Descartes/our_data/imgdata/p104/Use.Coffeemachine to /media/aperture/Delta/Descartes/our_data/imgdata4event/Use.Coffeemachine/p104\n",
      "Copy from /media/aperture/Delta/Descartes/our_data/imgdata/p104/Use.Mop to /media/aperture/Delta/Descartes/our_data/imgdata4event/Use.Mop/p104\n"
     ]
    },
    {
     "name": "stdout",
     "output_type": "stream",
     "text": [
      "Copy from /media/aperture/Delta/Descartes/our_data/imgdata/p104/Getup to /media/aperture/Delta/Descartes/our_data/imgdata4event/Getup/p104\n",
      "Copy from /media/aperture/Delta/Descartes/our_data/imgdata/p104/Cook.Cut to /media/aperture/Delta/Descartes/our_data/imgdata4event/Cook.Cut/p104\n",
      "Copy from /media/aperture/Delta/Descartes/our_data/imgdata/p104/Cook.Usemicrowave to /media/aperture/Delta/Descartes/our_data/imgdata4event/Cook.Usemicrowave/p104\n",
      "Copy from /media/aperture/Delta/Descartes/our_data/imgdata/p104/Drink.Fromcup to /media/aperture/Delta/Descartes/our_data/imgdata4event/Drink.Fromcup/p104\n",
      "Copy from /media/aperture/Delta/Descartes/our_data/imgdata/p104/Use.Dishwasher to /media/aperture/Delta/Descartes/our_data/imgdata4event/Use.Dishwasher/p104\n",
      "Copy from /media/aperture/Delta/Descartes/our_data/imgdata/p104/Use.Computer to /media/aperture/Delta/Descartes/our_data/imgdata4event/Use.Computer/p104\n",
      "Copy from /media/aperture/Delta/Descartes/our_data/imgdata/p103/Read to /media/aperture/Delta/Descartes/our_data/imgdata4event/Read/p103\n",
      "Copy from /media/aperture/Delta/Descartes/our_data/imgdata/p103/Eat.Snack to /media/aperture/Delta/Descartes/our_data/imgdata4event/Eat.Snack/p103\n",
      "Copy from /media/aperture/Delta/Descartes/our_data/imgdata/p103/Play.Boardgame to /media/aperture/Delta/Descartes/our_data/imgdata4event/Play.Boardgame/p103\n",
      "Copy from /media/aperture/Delta/Descartes/our_data/imgdata/p103/Drink.Frombottle to /media/aperture/Delta/Descartes/our_data/imgdata4event/Drink.Frombottle/p103\n",
      "Copy from /media/aperture/Delta/Descartes/our_data/imgdata/p103/Write to /media/aperture/Delta/Descartes/our_data/imgdata4event/Write/p103\n",
      "Copy from /media/aperture/Delta/Descartes/our_data/imgdata/p103/Use.Phone to /media/aperture/Delta/Descartes/our_data/imgdata4event/Use.Phone/p103\n",
      "Copy from /media/aperture/Delta/Descartes/our_data/imgdata/p103/Eat.Useutensil to /media/aperture/Delta/Descartes/our_data/imgdata4event/Eat.Useutensil/p103\n",
      "Copy from /media/aperture/Delta/Descartes/our_data/imgdata/p103/Use.Switch to /media/aperture/Delta/Descartes/our_data/imgdata4event/Use.Switch/p103\n",
      "Copy from /media/aperture/Delta/Descartes/our_data/imgdata/p103/Use.Tablet to /media/aperture/Delta/Descartes/our_data/imgdata4event/Use.Tablet/p103\n",
      "Copy from /media/aperture/Delta/Descartes/our_data/imgdata/p103/Drink.Fromcup to /media/aperture/Delta/Descartes/our_data/imgdata4event/Drink.Fromcup/p103\n",
      "Copy from /media/aperture/Delta/Descartes/our_data/imgdata/p103/Use.Computer to /media/aperture/Delta/Descartes/our_data/imgdata4event/Use.Computer/p103\n",
      "Copy from /media/aperture/Delta/Descartes/our_data/imgdata/p101/Use.Kettle to /media/aperture/Delta/Descartes/our_data/imgdata4event/Use.Kettle/p101\n",
      "Copy from /media/aperture/Delta/Descartes/our_data/imgdata/p101/Use.Vaccum to /media/aperture/Delta/Descartes/our_data/imgdata4event/Use.Vaccum/p101\n",
      "Copy from /media/aperture/Delta/Descartes/our_data/imgdata/p101/Read to /media/aperture/Delta/Descartes/our_data/imgdata4event/Read/p101\n",
      "Copy from /media/aperture/Delta/Descartes/our_data/imgdata/p101/Eat.Snack to /media/aperture/Delta/Descartes/our_data/imgdata4event/Eat.Snack/p101\n",
      "Copy from /media/aperture/Delta/Descartes/our_data/imgdata/p101/Play.Boardgame to /media/aperture/Delta/Descartes/our_data/imgdata4event/Play.Boardgame/p101\n",
      "Copy from /media/aperture/Delta/Descartes/our_data/imgdata/p101/Cook.Usestove to /media/aperture/Delta/Descartes/our_data/imgdata4event/Cook.Usestove/p101\n",
      "Copy from /media/aperture/Delta/Descartes/our_data/imgdata/p101/Drink.Frombottle to /media/aperture/Delta/Descartes/our_data/imgdata4event/Drink.Frombottle/p101\n",
      "Copy from /media/aperture/Delta/Descartes/our_data/imgdata/p101/Write to /media/aperture/Delta/Descartes/our_data/imgdata4event/Write/p101\n",
      "Copy from /media/aperture/Delta/Descartes/our_data/imgdata/p101/Use.Phone to /media/aperture/Delta/Descartes/our_data/imgdata4event/Use.Phone/p101\n",
      "Copy from /media/aperture/Delta/Descartes/our_data/imgdata/p101/Use.Sink to /media/aperture/Delta/Descartes/our_data/imgdata4event/Use.Sink/p101\n",
      "Copy from /media/aperture/Delta/Descartes/our_data/imgdata/p101/Use.Refrig to /media/aperture/Delta/Descartes/our_data/imgdata4event/Use.Refrig/p101\n",
      "Copy from /media/aperture/Delta/Descartes/our_data/imgdata/p101/Eat.Useutensil to /media/aperture/Delta/Descartes/our_data/imgdata4event/Eat.Useutensil/p101\n",
      "Copy from /media/aperture/Delta/Descartes/our_data/imgdata/p101/Use.Gamecontroller to /media/aperture/Delta/Descartes/our_data/imgdata4event/Use.Gamecontroller/p101\n",
      "Copy from /media/aperture/Delta/Descartes/our_data/imgdata/p101/Watch.TV to /media/aperture/Delta/Descartes/our_data/imgdata4event/Watch.TV/p101\n",
      "Copy from /media/aperture/Delta/Descartes/our_data/imgdata/p101/Nap to /media/aperture/Delta/Descartes/our_data/imgdata4event/Nap/p101\n",
      "Copy from /media/aperture/Delta/Descartes/our_data/imgdata/p101/Use.Shelf to /media/aperture/Delta/Descartes/our_data/imgdata4event/Use.Shelf/p101\n",
      "Copy from /media/aperture/Delta/Descartes/our_data/imgdata/p101/Exercise to /media/aperture/Delta/Descartes/our_data/imgdata4event/Exercise/p101\n",
      "Copy from /media/aperture/Delta/Descartes/our_data/imgdata/p101/Use.Switch to /media/aperture/Delta/Descartes/our_data/imgdata4event/Use.Switch/p101\n",
      "Copy from /media/aperture/Delta/Descartes/our_data/imgdata/p101/Cook.Useoven to /media/aperture/Delta/Descartes/our_data/imgdata4event/Cook.Useoven/p101\n",
      "Copy from /media/aperture/Delta/Descartes/our_data/imgdata/p101/Use.Tablet to /media/aperture/Delta/Descartes/our_data/imgdata4event/Use.Tablet/p101\n",
      "Copy from /media/aperture/Delta/Descartes/our_data/imgdata/p101/Lay.Onbed to /media/aperture/Delta/Descartes/our_data/imgdata4event/Lay.Onbed/p101\n",
      "Copy from /media/aperture/Delta/Descartes/our_data/imgdata/p101/Use.Coffeemachine to /media/aperture/Delta/Descartes/our_data/imgdata4event/Use.Coffeemachine/p101\n",
      "Copy from /media/aperture/Delta/Descartes/our_data/imgdata/p101/Use.Mop to /media/aperture/Delta/Descartes/our_data/imgdata4event/Use.Mop/p101\n",
      "Copy from /media/aperture/Delta/Descartes/our_data/imgdata/p101/Getup to /media/aperture/Delta/Descartes/our_data/imgdata4event/Getup/p101\n",
      "Copy from /media/aperture/Delta/Descartes/our_data/imgdata/p101/Cook.Cut to /media/aperture/Delta/Descartes/our_data/imgdata4event/Cook.Cut/p101\n",
      "Copy from /media/aperture/Delta/Descartes/our_data/imgdata/p101/Cook.Usemicrowave to /media/aperture/Delta/Descartes/our_data/imgdata4event/Cook.Usemicrowave/p101\n",
      "Copy from /media/aperture/Delta/Descartes/our_data/imgdata/p101/Drink.Fromcup to /media/aperture/Delta/Descartes/our_data/imgdata4event/Drink.Fromcup/p101\n",
      "Copy from /media/aperture/Delta/Descartes/our_data/imgdata/p101/Use.Dishwasher to /media/aperture/Delta/Descartes/our_data/imgdata4event/Use.Dishwasher/p101\n",
      "Copy from /media/aperture/Delta/Descartes/our_data/imgdata/p101/Use.Computer to /media/aperture/Delta/Descartes/our_data/imgdata4event/Use.Computer/p101\n",
      "Copy from /media/aperture/Delta/Descartes/our_data/imgdata/p199/Read to /media/aperture/Delta/Descartes/our_data/imgdata4event/Read/p199\n",
      "Copy from /media/aperture/Delta/Descartes/our_data/imgdata/p199/Eat.Snack to /media/aperture/Delta/Descartes/our_data/imgdata4event/Eat.Snack/p199\n",
      "Copy from /media/aperture/Delta/Descartes/our_data/imgdata/p199/Play.Boardgame to /media/aperture/Delta/Descartes/our_data/imgdata4event/Play.Boardgame/p199\n",
      "Copy from /media/aperture/Delta/Descartes/our_data/imgdata/p199/Drink.Frombottle to /media/aperture/Delta/Descartes/our_data/imgdata4event/Drink.Frombottle/p199\n",
      "Copy from /media/aperture/Delta/Descartes/our_data/imgdata/p199/Write to /media/aperture/Delta/Descartes/our_data/imgdata4event/Write/p199\n",
      "Copy from /media/aperture/Delta/Descartes/our_data/imgdata/p199/Use.Phone to /media/aperture/Delta/Descartes/our_data/imgdata4event/Use.Phone/p199\n",
      "Copy from /media/aperture/Delta/Descartes/our_data/imgdata/p199/Eat.Useutensil to /media/aperture/Delta/Descartes/our_data/imgdata4event/Eat.Useutensil/p199\n",
      "Copy from /media/aperture/Delta/Descartes/our_data/imgdata/p199/Use.Switch to /media/aperture/Delta/Descartes/our_data/imgdata4event/Use.Switch/p199\n",
      "Copy from /media/aperture/Delta/Descartes/our_data/imgdata/p199/Use.Tablet to /media/aperture/Delta/Descartes/our_data/imgdata4event/Use.Tablet/p199\n"
     ]
    },
    {
     "name": "stdout",
     "output_type": "stream",
     "text": [
      "Copy from /media/aperture/Delta/Descartes/our_data/imgdata/p199/Drink.Fromcup to /media/aperture/Delta/Descartes/our_data/imgdata4event/Drink.Fromcup/p199\n",
      "Copy from /media/aperture/Delta/Descartes/our_data/imgdata/p199/Use.Computer to /media/aperture/Delta/Descartes/our_data/imgdata4event/Use.Computer/p199\n"
     ]
    }
   ],
   "source": [
    "import random\n",
    "\n",
    "for u in userids:\n",
    "    user_events = os.listdir(data_root + os.sep + u)\n",
    "    for e in user_events:\n",
    "        src = data_root + os.sep + u + os.sep + e\n",
    "        dst = new_root + os.sep + e + os.sep + u\n",
    "        print(\"Copy from %s to %s\" %(src, dst))\n",
    "#         shutil.copytree(src, dst)\n",
    "#         os.rename(src, dst)"
   ]
  }
 ],
 "metadata": {
  "kernelspec": {
   "display_name": "Python 3 (ipykernel)",
   "language": "python",
   "name": "python3"
  },
  "language_info": {
   "codemirror_mode": {
    "name": "ipython",
    "version": 3
   },
   "file_extension": ".py",
   "mimetype": "text/x-python",
   "name": "python",
   "nbconvert_exporter": "python",
   "pygments_lexer": "ipython3",
   "version": "3.9.15"
  }
 },
 "nbformat": 4,
 "nbformat_minor": 5
}
